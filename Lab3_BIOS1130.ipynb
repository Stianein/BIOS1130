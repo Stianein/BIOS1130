{
 "cells": [
  {
   "cell_type": "markdown",
   "metadata": {},
   "source": [
    "<!-- dom:TITLE: Lab3: Fra egg til krystall -->\n",
    "# Lab3: Fra egg til krystall\n",
    "<!-- AUTHOR: Stian Eide Ingebrigtsen -->\n",
    "\n",
    "<!-- DATE: today -->\n",
    "\n",
    "<!-- TOC: on -->"
   ]
  },
  {
   "cell_type": "markdown",
   "metadata": {},
   "source": [
    "\n"
   ]
  },
  {
   "cell_type": "markdown",
   "metadata": {},
   "source": [
    "## Python som et verktøy for plotting av figurer\n",
    "\n",
    "<div class=\"alert alert-block alert-info\">\n",
    "I denne laben skal vi plotte figurer som skal inn i rapporten, til dette er python et fint verktøy. En SDS-PAGE separerer proteiner basert på størelse og kjøres for å separere ut lysozym. Vi tilsetter en løsning proteiner med kjente lengder i én av brønnene, måling av den relative forflytningen kan plottes mot logaritmen til molkylvekten til disse proteinene.\n",
    "\n",
    "\n",
    "\n",
    "### Hente data fra en fil\n",
    "\n",
    "I BIOS1100 lærte du å bruke pandas til å hente ut data fra kolonnene i en csvfil (comma separated-values). Vi lagrer dataene fra laben i filen \"molekylvekt.csv\". Nå lager vi et program som importerer de to kolonnene fra filen."
   ]
  },
  {
   "cell_type": "code",
   "execution_count": 1,
   "metadata": {
    "collapsed": false
   },
   "outputs": [],
   "source": [
    "import pandas as pd\n",
    "\n",
    "data = pd.read_csv('molekylvekt.csv')\n",
    "\n",
    "#relativ forflytning på en gel\n",
    "x = list(data[\"relativ_migrering\"])\n",
    "#molekylvekten\n",
    "y = list(data[\"molekylvekt\"])\n",
    "\n",
    "print('x:', x)\n",
    "print('y:', y)"
   ]
  },
  {
   "cell_type": "markdown",
   "metadata": {},
   "source": [
    "### Fra molekylvekt til logaritmen\n",
    "\n",
    "Vi har dataene våre lagret i to lister, men den ene listen inneholder verdier vi skal plotte logaritmen til. Vi lager en for-løkke som endrer alle verdiene i listen til logaritmen av verdien."
   ]
  },
  {
   "cell_type": "code",
   "execution_count": 2,
   "metadata": {
    "collapsed": false
   },
   "outputs": [],
   "source": [
    "from pylab import *\n",
    "\n",
    "y_log = zeros(len(y))\n",
    "i = 0\n",
    "\n",
    "for elem in y:                  # går igjennom listen y, element for element.\n",
    "    y_log[i] = log10(elem)     # endrer elementet til logaritmen av elementet.\n",
    "    i += 1\n",
    "\n",
    "print('log(y): ', y_log)"
   ]
  },
  {
   "cell_type": "markdown",
   "metadata": {},
   "source": [
    "### Lineær regresjon\n",
    "\n",
    "Vi har listene klare til plotting, men vi ønsker også å trekke en linje som best beskriver logaritmen til molekylvekten som en lineær funksjon av relativ migrering. På den måten kan vi måle den relative migreringen til lysozym og estimere molekylvekten. I første kodecelle importerte vi hele pylab-biblioteket. Pylab inneholder blant annet biblioteket numpy, og numpy har en funksjon som heter polyfit. Denne funksjonen kan brukes til å regne ut polynom-/lineær regresjon. Gir vi den argumentene **x**, **y**, og **1**, får vi tilbake en liste med **a** og **b** i uttrykket $y = ax + b$.\n",
    "\n",
    "Deretter kan poly1d funksjonen, også inneholdt i numpy, brukes til å plotte denne linjen. Poly1d gir tilbake funksjonen ax + b, når vi gir den argumentet (listen) fra polyfit funksjonen."
   ]
  },
  {
   "cell_type": "code",
   "execution_count": 3,
   "metadata": {
    "collapsed": false
   },
   "outputs": [],
   "source": [
    "a,b = polyfit(x, y_log, 1)\n",
    "print('a=', a, ', b=', b)\n",
    "lin_reg = poly1d([a, b])\n",
    "\n",
    "plot(x, y_log, \"ro\", x, lin_reg(x), \"-k\")\n",
    "ylabel(r'$log M_r$', fontsize=15)\n",
    "xlabel(\"Relativ migrering\", fontsize=15)\n",
    "grid(color='grey', linestyle ='-', linewidth =0.4)\n",
    "show()"
   ]
  },
  {
   "cell_type": "markdown",
   "metadata": {},
   "source": [
    "### Hente ut og en ukjent y-verdi\n",
    "\n",
    "Hva er molekylvekten til Lysozymproteinet? Vi lager en funksjon som raskt kan kalles opp dersom vi ønsker å regne ut flere verdier for molekylvekt basert på relativ migrering."
   ]
  },
  {
   "cell_type": "code",
   "execution_count": 4,
   "metadata": {
    "collapsed": false
   },
   "outputs": [],
   "source": [
    "def molekylvekt(x, a, b):\n",
    "    log_vekt = a*x + b\n",
    "    vekt = 10**log_vekt\n",
    "    return vekt\n",
    "\n",
    "\n",
    "migrering = ??    # skriv inn verdien på variabelen og kjør koden.\n",
    "mol_vekt = molekylvekt(migrering, a,b)\n",
    "print(\"Relativ migrering: \", migrering, \"\\ngir molekylvekten: \", mol_vekt)"
   ]
  }
 ],
 "metadata": {},
 "nbformat": 4,
 "nbformat_minor": 2
}
